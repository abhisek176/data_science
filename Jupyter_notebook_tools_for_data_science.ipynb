{
 "cells": [
  {
   "cell_type": "markdown",
   "metadata": {
    "collapsed": true
   },
   "source": [
    "# My Jupyter Notebook on IBM Watson Studio"
   ]
  },
  {
   "cell_type": "markdown",
   "metadata": {},
   "source": [
    "**Abhisek Mohapatra**\n",
    "\n",
    "Postdoctoral Fellow"
   ]
  },
  {
   "cell_type": "markdown",
   "metadata": {},
   "source": [
    "*I am interested in data science because, I want to combine the power of AI/ML with the various requirements, to create powerful solutions and provide deep insights into issues a community needs to solve or discover underlying patterns to discover new potential insights in the era of big data astronomy.*"
   ]
  },
  {
   "cell_type": "markdown",
   "metadata": {},
   "source": [
    "### The Following Code will add two numbers 6 and 10"
   ]
  },
  {
   "cell_type": "code",
   "execution_count": 4,
   "metadata": {},
   "outputs": [
    {
     "data": {
      "text/plain": [
       "16"
      ]
     },
     "execution_count": 4,
     "metadata": {},
     "output_type": "execute_result"
    }
   ],
   "source": [
    "6 + 10"
   ]
  },
  {
   "cell_type": "markdown",
   "metadata": {},
   "source": [
    "1. [Github](https://www.github.com/abhisek176) https://www.github.com/abhisek176\n",
    "2. ~This shows strikethrough~\n",
    "3. Example of \n",
    "> block quotes 1\n",
    "\n",
    "> block quotes 2\n",
    "\n",
    "\n",
    "4. Horizontal line\n",
    "\n",
    "***\n",
    "\n",
    "5. Table\n",
    "\n",
    "| HEAD1 | HEAD2| HEAD3 |\n",
    "| --- | --- | --- |\n",
    "| COL1 | COL2 | COL3 |\n",
    "| COL1 | COL2 | COL3 |\n",
    "\n",
    "\n",
    "\n",
    "6. SYntax highlight\n",
    "\n",
    "\n",
    "```python\n",
    "s = \"Python syntax highlighting\"\n",
    "print s\n",
    "```"
   ]
  },
  {
   "cell_type": "code",
   "execution_count": null,
   "metadata": {},
   "outputs": [],
   "source": []
  }
 ],
 "metadata": {
  "kernelspec": {
   "display_name": "Python 3.10",
   "language": "python",
   "name": "python3"
  },
  "language_info": {
   "codemirror_mode": {
    "name": "ipython",
    "version": 3
   },
   "file_extension": ".py",
   "mimetype": "text/x-python",
   "name": "python",
   "nbconvert_exporter": "python",
   "pygments_lexer": "ipython3",
   "version": "3.10.6"
  }
 },
 "nbformat": 4,
 "nbformat_minor": 1
}
